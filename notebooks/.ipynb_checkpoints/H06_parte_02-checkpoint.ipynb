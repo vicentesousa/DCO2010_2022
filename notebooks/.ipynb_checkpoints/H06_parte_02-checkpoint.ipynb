{
 "cells": [
  {
   "cell_type": "markdown",
   "metadata": {
    "id": "JRA6fY63WhTw"
   },
   "source": [
    "# Hands-on 6 parte 2 - DCO2010: Laboratório de Radio Definido por Software\n",
    "\n",
    "## Parte 02: Transmissor WBFM (GRC) "
   ]
  },
  {
   "cell_type": "markdown",
   "metadata": {
    "id": "5HEy_xZxyGKl"
   },
   "source": [
    "## Exemplo Prático \n",
    "\n",
    "\n",
    "## Exemplo Prático \n",
    "\n",
    "**OBJETIVO**: Através do uso de conceitos sobre modulação em frequência (FM) e de alguns blocos\n",
    "básicos mostrados em tutoriais passados iremos, com a ajuda do GNR (GNU Radio Companion), criar um\n",
    "transmissor FM capaz de enviar ao espaço livre áudio proveniente de arquivo “.wav” ou microfone.\n",
    "\n",
    "**Passo 1:** Com o GNU RADIO COMPANION aberto, crie um novo projeto:\n",
    "\n",
    "a. Abra um terminal digitando CRTL+ALT+t e digite: gnuradio-companion e pressione ENTER:\n",
    "\n",
    "![Virtual1](../FIGS/H06_parte_01/gnuradio-terminal.png)\n",
    "\n",
    "Alternativa:\n",
    "b. Clique em Dash Home e digite grc e clique no ícone correspondente ao GRC:\n",
    "\n",
    "![Virtual1](../FIGS/H06_parte_01/showapplications.png)\n",
    "\n",
    "![Virtual1](../FIGS/H06_parte_01/gnuradio.png)\n",
    "\n",
    "**Passo 2:**Com o GNU RADIO COMPANION aberto, crie um novo projeto.\n",
    "\n",
    "![Virtual1](../FIGS/H06_parte_01/creat_New_flow.jpg)\n",
    "\n",
    "**Passo 3:** Clique duas vezes no Bloco **Options**. Esse bloco configura alguns parâmetros gerais de flowgraph.Mantenha o ID como top_block. Digite um título para o projeto e um autor. Selecione Generate\n",
    "Options com QT GUI, Run para Autostart e Realtime Scheduling para Off. Então, feche a janela de\n",
    "propriedades.\n",
    "\n",
    "\n",
    "\n",
    "**Passo 4:** Construa um projeto utilizando os blocos WavFileSource, dois MultiplyConst, dois QT GUI Range,\n",
    "um WBFM Transmite UHD: USRP Sink. Conecte os elementos de forma que sua área de trabalho\n",
    "fique igual a figura a seguir. Altere o campo Type para Float apenas do bloco MultiplyConst que\n",
    "estará ligado à saída do bloco Wav File Source.\n",
    "\n",
    "![Virtual1](../FIGS/H06_parte_02/experimento1.png)\n",
    "\n",
    "**Passo 5:** Configure os dois blocos QT GUI Range para controlar o valor das constantes dos blocos Multiply\n",
    "Const. Altere o ID dos blocos QT GUI Range para slider_0 e slider_1, respectivamente. Altere o\n",
    "campo Default Value para 1, mude o valor dos campos Start, Stope Step para 0, 10 e 0.1,\n",
    "respectivamente. Além disso, deixe o campo Widget na opção Counter + Slider. Os blocos devem\n",
    "ficar como mostrado abaixo.\n",
    "\n",
    "Você verá uma saída similar a:\n",
    "\n",
    "![Virtual1](../FIGS/H06_parte_02/slider0.png)\n",
    "\n",
    "![Virtual1](../FIGS/H06_parte_02/slider0.png)\n",
    "\n",
    "\n",
    "\n",
    "Obs:mesmo depois de todas essas configurações o bloco ainda continuará vermelho principalmente porque as variáveis ainda não foram definidas.\n",
    "\n",
    "**Passo 6:** Agora configure o bloco MultiplyConst que se encontra ligado ao bloco Wav File Source. No\n",
    "campo Constant altere o valor para slider_0(veja figura a seguir). Faça a mesma configuração no\n",
    "bloco MultiplyConst que se encontra ligado a saída do bloco WBFM Transmit, mudando o valor\n",
    "do campo Constant para slider_1.\n",
    "\n",
    "Você verá uma saída similar a:\n",
    "\n",
    "![Virtual1](../FIGS/H06_parte_02/multipy_const1.png)\n",
    "\n",
    "![Virtual1](../FIGS/H06_parte_02/multipy_const2.png)\n",
    "\n",
    "\n",
    "\n",
    "\n",
    "**Passo 7:** Agora vamos configurar o bloco WBFM Transmit. Altere o campo Audio Rate para taxa de\n",
    "amostragem de sua placa de som, que por padrão deve ser 44100. O campo Quadrature Rate está\n",
    "diretamente ligado ao campo Audio Rate, no qual só é permitido colocar valores múltiplos do valor\n",
    "que você colocou no campo Audio Rate. No nosso caso, colocaremos 882000 que é um valor 20\n",
    "vezes maior que 44100. O campo Tau e Max Deviation deixaremos o valor que vem padrão. O Tau\n",
    "remete ao valor da constante de tempo de um circuito RC, enquanto o Max Deviation é a frequência\n",
    "máxima de desvio determinada pela Agência reguladora (ANATEL), que é de 75KHz. O bloco deve\n",
    "ficar como na figura a seguir.\n",
    "\n",
    "Você verá uma saída similar a:\n",
    "\n",
    "![Virtual1](../FIGS/H06_parte_02/wbfm.png)\n",
    "\n",
    "\n",
    "\n",
    "**Passo 8:** Dê dois cliques no bloco UHD: USRP Sink e altere o campo Ch0:Center Freq para a frequência\n",
    "que deseja alocar a transmissão. No nosso caso optaremos pela frequência de 88,9MHz. Agora\n",
    "altere o campo Ch0:Gain(dB) que é o valor de ganho da antena para 10. Finalmente altere o campo\n",
    "Samp Rate (Sps) para o valor da taxa de quadratura que colocamos no bloco WBFM Transmit que\n",
    "foi de 882000. O bloco deve ficar como na figura a seguir.\n",
    "\n",
    "Você verá uma saída similar a:\n",
    "\n",
    "![Virtual1](../FIGS/H06_parte_02/usrp1.png)\n",
    "\n",
    "![Virtual1](../FIGS/H06_parte_02/usrp2.png)\n",
    "\n",
    "**Passo 9:** Dê dois cliques no bloco Wav File Source e procure um arquivo wav (no nosso caso, procure na\n",
    "área de trabalho o arquivo chamado “handson2_file_minicurso_44_1KHz.wav”. Selecione o\n",
    "arquivo wav com 44.1 kHz de taxa de amostragem. O bloco deve ficar como na figura a seguir.\n",
    "\n",
    "![Virtual1](../FIGS/H06_parte_02/arquivo-wav.png)\n",
    "\n",
    "**Passo 10**: Salve o projeto com o nome hands_on_6.grc, gere o projeto em Python e execute-o. Agora tente\n",
    "sintonizar um receptor FM comercial (ou o seu celular) em 88,9 MHz. Você ouvirá a musica do\n",
    "arquivo .wav. Também será mostrada uma tela como na figura a seguir. Os sliders podem ser\n",
    "usados para ajustar o ganho do sinal antes e depois do transmissor.\n",
    "Você verá uma saída similar a:\n",
    "\n",
    "![Virtual1](../FIGS/H06_parte_02/)\n",
    "\n",
    "**Passo 11**: Também podemos usar o áudio do microfone como entrada do transmissor. Pare a execução\n",
    "anterior e salve o projeto como “hands_on_6_step_02.grc”. Arraste os seguintes blocos para sua\n",
    "área de trabalho: um bloco AudioSource, um bloco Add, outro bloco Multiply Constant. Eles\n",
    "devem ser conectados como na figura a seguir.\n",
    "\n",
    "![Virtual1](../FIGS/H06_parte_02/experiomento2.png)\n",
    "\n",
    "**Passo 12**:Configure o novo bloco QT GUI Range para controlar o valor da constante do novo Multiply Const.\n",
    "Altere o ID do novo bloco QT GUI Range para mic_gain. Altere o campo Default Value para 1,\n",
    "mude o valor dos campos Minimum e Maximum para 0 e 20, respectivamente. Agora configure o\n",
    "bloco MultiplyConst que se encontra ligado ao bloco AudioSource. No campo Constant altere o\n",
    "valor para mic_audio.\n",
    "\n"
   ]
  },
  {
   "cell_type": "markdown",
   "metadata": {
    "id": "5I8QC7Ic8StX"
   },
   "source": [
    "**Passo 13**: Gere e execute o projeto. O sinal transmitido será um sinal de áudio recebido pelo driver da placa\n",
    "de som (microfone) misturado com a música do arquivo WAV. Se não tiver ouvindo a sua voz ao falar no microfone, aumento o ganho no slider novo (mic_gain). Ele deve aparecer como a figura a\n",
    "seguir.\n",
    "\n",
    "Você verá uma saída similar a:\n",
    "\n",
    "\n",
    "\n"
   ]
  },
  {
   "cell_type": "markdown",
   "metadata": {
    "id": "jSBffgb1MvFR"
   },
   "source": [
    "Referências\n",
    "[1] http://www.snowymtn.ca/GNURadio/GNURAdioDoc-7.pdf - acesso em:04/12/2012"
   ]
  }
 ],
 "metadata": {
  "colab": {
   "name": "H06_parte_02.ipynb",
   "provenance": []
  },
  "kernelspec": {
   "display_name": "Python 3 (ipykernel)",
   "language": "python",
   "name": "python3"
  },
  "language_info": {
   "codemirror_mode": {
    "name": "ipython",
    "version": 3
   },
   "file_extension": ".py",
   "mimetype": "text/x-python",
   "name": "python",
   "nbconvert_exporter": "python",
   "pygments_lexer": "ipython3",
   "version": "3.9.7"
  }
 },
 "nbformat": 4,
 "nbformat_minor": 1
}
