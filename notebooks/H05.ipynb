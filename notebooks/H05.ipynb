{
 "cells": [
  {
   "cell_type": "markdown",
   "metadata": {},
   "source": [
    "# Hands-on 5 - DCO2010: Laboratório de Radio Definido por Software\n",
    "\n",
    "## Projeto de filtros digitais com o GNU Radio"
   ]
  },
  {
   "cell_type": "markdown",
   "metadata": {},
   "source": [
    "## Introdução Teórica\n",
    "### Filtros\n",
    "Filtros são circuitos especialmente projetados para fornecer ganho em sua saída dependendo da frequência do sinal aplicado na entrada. Esta definição pode ser aplicada a vários circuitos, como, por exemplo, aos amplificadores de áudio com controle de tonalidade, amplamente difundidos no mercado (os equalizadores gráficos). A figura a seguir mostra um equalizador gráfico encontrado no mercado.\n",
    "![Equalizador](../FIGS/H05/equalizador.jpg)\n",
    "\n",
    "Esse exemplo de aplicação ressalta a principal característica de um filtro: **sua sensibilidade à frequência do sinal**. Esta característica permite que eles sejam utilizados para selecionar uma determinada faixa de frequências, ou para elimina-las (sinais indesejáveis) ou para amplifica-las. Esta característica é chamada seletividade. \n",
    "\n",
    "Os tipos clássicos de filtros são:\n",
    "\n",
    "•   **Filtro passa-baixa**: permite que somente frequências abaixo de uma frequência determinada (frequência de corte) passem para a saída, eliminando todas as componentes de frequências superiores; \n",
    "\n",
    "•\t**Filtro passa-alta**: funciona de maneira inversa ao filtro passa-baixa. Deixando passar para a saída apenas frequências estejam acima de certo valor. A figura a seguir mostra a resposta em frequência de um filtro passa-baixa (à esquerda) e um filtro passa-alta (à direita);\n",
    "\n",
    "![filtro_passa_alta](../FIGS/H05/filtro_passa_alta.png)\n",
    "\n",
    "•\t**Filtro passa-faixa**: permite a seleção de apenas uma faixa de frequências (banda-passante), ou seja, apenas essa faixa (intervalo) selecionada passará para a saída do filtro;\n",
    "\n",
    "•\t**Filtro rejeita-faixa**: atua de forma inversa ao filtro passa-faixa, eliminando os sinais contidos em um determinado intervalo de frequências definido. A figura a seguir mostra a resposta em frequência de um filtro passa-faixa (à esquerda) e um rejeita-faixa (à direita);\n",
    "\n",
    "![filtro_rejeita_faixa](../FIGS/H05/filtro_rejeita_faixa.png)\n",
    "\n",
    "## Referências\n",
    "[1] http://www2.unicid.br/telecom/fintel/VI-Fintel/feira/E2B2.html - acesso em:15/11/2012\n",
    "\n",
    "[2] http://es.wikipedia.org/wiki/Filtro - acesso em:15/11/2012\n",
    "\n",
    "[3] Vicente A. de Sousa Jr.; Slide sobre Modulação AM unidade II - acesso em:15/11/2012 \n",
    "\n",
    "[4] http://www.csun.edu/~skatz/katzpage/sdr_project/sdr/ - Acesso em:12/11/2012 \n",
    "\n",
    "[5] http://lists.gnu.org/archive/html/discuss-gnuradio/2006-07/txtNbXJrpGud_.txt - Acesso em:12/11/2012\n",
    "\n",
    "[6] http://en.wikipedia.org/wiki/wav - Acesso em:12/11/2012\n",
    "\n",
    "[7] http://support.microsoft.com/kb/89879 - Acesso em:12/11/2012\n",
    "\n",
    "[8] http://docentes.fam.ulusiada.pt/~d1207/docs/ps/PS_Cap5_0506.pdf - Acesso em: 30/11/2012\n",
    "\n"
   ]
  },
  {
   "cell_type": "markdown",
   "metadata": {},
   "source": [
    "## Exercício\n",
    "### Objetivo: \n",
    "Usar conceitos básicos e algumas dicas aprendidas em exercícios passados para filtrar a saída de dois sinais com frequências diferentes, tanto usando filtros digitais FIR quanto IIR, utilizando a ferramenta Filter Design do GNU Radio.\n",
    "\n",
    "1. Caso ainda não esteja aberto, inicialize o GNU Radio Companion.\n",
    "\n",
    "    a) Abra um terminal digitando CRTL+ALT+t\n",
    "\n",
    "    b) Digite: gnuradio-companion e pressione ENTER\n",
    "\n",
    "    ![gnuradio-companion](../FIGS/H05/gnuradio-companion.png)\n",
    "    \n",
    "2. Com o GNU RADIO COMPANION aberto, crie um novo projeto.\n",
    "\n",
    "    ![novoprojeto](../FIGS/H05/novoprojeto.png)\n",
    "\n",
    "3. Clique duas vezes no Bloco **Options**. Esse bloco configura alguns parâmetros gerais do _flowgraph_. Mantenha o ID como top_block. Digite um título para o projeto e um autor. Selecione _Generate Options_ como QT GUI, _Run_ para _Autostart_ e _Realtime Scheduling_ para _Off_. Então, feche a janela de propriedades.\n",
    "\n",
    "    ![options](../FIGS/H05/options.png)\n",
    "\n",
    "4. O experimento será realizado em duas etapas: a primeira é um projeto utilizando Filtros FIR e a segunda, a construção de um projeto com Filtros IIR. Construa seu primeiro projeto utilizando os seguintes blocos: dois **Signal Source**, um **Add**, três **QT GUI Time Sink**, três **QT GUI Frequency Sink**, dois **Interpolating FIR Filter** e um **QT GUI Tab Widget**. Faça a conexão dos blocos de forma que sua área de trabalho fique igual à figura abaixo.\n",
    "\n",
    "    ![blocos_conectados](../FIGS/H05/blocos_conectados.png)\n",
    "\n",
    "5. Aora configure os parâmetros de cada bloco. Clique duas vezes no bloco **Variable** e atribua uma frequência de amostragem, no campo _Value_, de 200 kHz. No primeiro bloco **Signal Source** atribua uma frequência de 3 kHz e no segundo bloco para 80 kHz. Em ambos os blocos altere o parâmetro _Output Type_ para _Complex_. \n",
    "\n",
    "    ![signal_source1](../FIGS/H05/signal_source1.png)\n",
    "    ![signal_source2](../FIGS/H05/signal_source2.png)\n",
    "\n",
    "6. No próximo passo, configure os blocos da família QT GUI que são responsáveis pela organização e visualização dos gráficos. Primeiramente, clique no bloco **QT GUI Tab Widget** e edite o parâmetro _ID_ para “aba”, _Num Tabs_ para 3 e preencha os campos _Labels_ de acordo com a figura abaixo.\n",
    "\n",
    "    ![qtguitabwidget](../FIGS/H05/qtguitabwidget.png)\n",
    "\n",
    "7. Agora configure os blocos **QT GUI Time Sink** e **QT GUI Frequency Sink** que estão na saída do bloco **Add**; altere o _Type_ de ambos os blocos para _Complex_ e o parâmetro _GUI Hint_ conforme é ilustrado nas figuras seguintes. Esses blocos serão responsáveis por mostrar os sinais originais no domínio do tempo e da frequência.\n",
    "\n",
    "    ![qtguitimesink](../FIGS/H05/qtguitimesink.png)\n",
    "    ![qtguifrequencysink](../FIGS/H05/qtguifrequencysink.png)    "
   ]
  }
 ],
 "metadata": {
  "interpreter": {
   "hash": "89ebff69fb7a4f8c65396050cb6396c99ca60abd05f19c10a1e6277d1303cc7a"
  },
  "kernelspec": {
   "display_name": "Python 3.9.1 64-bit",
   "language": "python",
   "name": "python3"
  },
  "language_info": {
   "codemirror_mode": {
    "name": "ipython",
    "version": 3
   },
   "file_extension": ".py",
   "mimetype": "text/x-python",
   "name": "python",
   "nbconvert_exporter": "python",
   "pygments_lexer": "ipython3",
   "version": "3.9.1"
  },
  "orig_nbformat": 4
 },
 "nbformat": 4,
 "nbformat_minor": 2
}
