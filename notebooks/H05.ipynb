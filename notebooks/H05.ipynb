{
 "cells": [
  {
   "cell_type": "markdown",
   "metadata": {},
   "source": [
    "# Hands-on 5 - DCO2010: Laboratório de Radio Definido por Software\n",
    "\n",
    "## Projeto de filtros digitais com o GNU Radio"
   ]
  },
  {
   "cell_type": "markdown",
   "metadata": {},
   "source": [
    "## Introdução Teórica\n",
    "### Filtros\n",
    "Filtros são circuitos especialmente projetados para fornecer ganho em sua saída dependendo da frequência do sinal aplicado na entrada. Esta definição pode ser aplicada a vários circuitos, como, por exemplo, aos amplificadores de áudio com controle de tonalidade, amplamente difundidos no mercado (os equalizadores gráficos). A figura a seguir mostra um equalizador gráfico encontrado no mercado.\n",
    "![Equalizador](../FIGS/H05/equalizador.jpg)\n",
    "\n",
    "Esse exemplo de aplicação ressalta a principal característica de um filtro: **sua sensibilidade à frequência do sinal**. Esta característica permite que eles sejam utilizados para selecionar uma determinada faixa de frequências, ou para elimina-las (sinais indesejáveis) ou para amplifica-las. Esta característica é chamada seletividade. \n",
    "\n",
    "Os tipos clássicos de filtros são:\n",
    "\n",
    "•   **Filtro passa-baixa**: permite que somente frequências abaixo de uma frequência determinada (frequência de corte) passem para a saída, eliminando todas as componentes de frequências superiores; \n",
    "\n",
    "•\t**Filtro passa-alta**: funciona de maneira inversa ao filtro passa-baixa. Deixando passar para a saída apenas frequências estejam acima de certo valor. A figura a seguir mostra a resposta em frequência de um filtro passa-baixa (à esquerda) e um filtro passa-alta (à direita);\n",
    "\n",
    "![filtro_passa_alta](../FIGS/H05/filtro_passa_alta.png)\n",
    "\n",
    "•\t**Filtro passa-faixa**: permite a seleção de apenas uma faixa de frequências (banda-passante), ou seja, apenas essa faixa (intervalo) selecionada passará para a saída do filtro;\n",
    "\n",
    "•\t**Filtro rejeita-faixa**: atua de forma inversa ao filtro passa-faixa, eliminando os sinais contidos em um determinado intervalo de frequências definido. A figura a seguir mostra a resposta em frequência de um filtro passa-faixa (à esquerda) e um rejeita-faixa (à direita);\n",
    "\n",
    "![filtro_rejeita_faixa](../FIGS/H05/filtro_rejeita_faixa.png)"
   ]
  }
 ],
 "metadata": {
  "interpreter": {
   "hash": "89ebff69fb7a4f8c65396050cb6396c99ca60abd05f19c10a1e6277d1303cc7a"
  },
  "kernelspec": {
   "display_name": "Python 3.9.1 64-bit",
   "language": "python",
   "name": "python3"
  },
  "language_info": {
   "codemirror_mode": {
    "name": "ipython",
    "version": 3
   },
   "file_extension": ".py",
   "mimetype": "text/x-python",
   "name": "python",
   "nbconvert_exporter": "python",
   "pygments_lexer": "ipython3",
   "version": "3.9.1"
  },
  "orig_nbformat": 4
 },
 "nbformat": 4,
 "nbformat_minor": 2
}
