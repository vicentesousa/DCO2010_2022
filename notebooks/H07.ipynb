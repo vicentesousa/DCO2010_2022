{
 "cells": [
  {
   "cell_type": "markdown",
   "metadata": {},
   "source": [
    "# Hands-on 7 - DCO2010: Laboratório de Radio Definido por Software\n",
    "\n",
    "## Receptor WBFM usando o Dongle"
   ]
  },
  {
   "cell_type": "markdown",
   "metadata": {},
   "source": [
    "## Introdução Teórica\n",
    "Todo processo de modulação analógica envolve uma operação (função) entre a onda modulante m(t) e a onda portadora c(t).\n",
    "\n",
    "![fig1](../FIGS/H07/fig1.png)\n",
    "\n",
    "O modulador FM produz uma onda no qual a frequência instantânea varia linearmente com o sinal mensagem:\n",
    "\\begin{equation}\n",
    "f_i(t) = f_c + k_{f}m(t)\n",
    "\\end{equation} \\tag*{(1)}\n",
    "sendo $k_f$ um parâmetro de projeto chamado **sensibilidade de frequência do modulador (Hz/volt)**. Sabemos que a relação ângulo-frequência é:\n",
    "\\begin{equation}\n",
    "f_i(t) = \\frac{1}{2\\pi} \\frac{d\\theta(t)}{dt}\n",
    "\\end{equation} \\tag*{(2)}\n",
    "\n",
    "\\begin{equation}\n",
    "\\theta_i(t) = 2\\pi \\int^t_0 f_i(\\tau)d\\tau\n",
    "\\end{equation}\\tag*{(3)}\n"
   ]
  },
  {
   "cell_type": "markdown",
   "metadata": {},
   "source": [
    "Dessa forma, desconsiderando o desvio de fase da onda portadora ($\\phi$ = 0), o modulador FM produz a onda s(t) a seguir.\n",
    "\\begin{equation}\n",
    "s(t) = A_c cos\\left(2\\pi f_ct + 2\\pi k_f \\int^t_0 m(\\tau)d\\tau \\right)\n",
    "\\end{equation}\\tag*{(4)}\n",
    "\n",
    "Então, a onda FM s(t) é uma função não linear da onda moduladora m(t). Portanto, a modulação em frequência é um processo não linear de modulação. Sua caracterização temporal pode ser visualizada na figura a seguir.\n",
    "\n",
    "![fig2](../FIGS/H07/fig2.png)"
   ]
  },
  {
   "cell_type": "markdown",
   "metadata": {},
   "source": [
    "Por simplicidade, consideremos m(t) um tom, como abaixo.\n",
    "\\begin{equation}\n",
    "m(t) = A_m cos(2\\pi f_mt)\n",
    "\\end{equation}\\tag{5}\n",
    "\n",
    "A frequência instantânea da onda FM pode ser reescrita como abaixo.\n",
    "\\begin{equation}\n",
    "f_i(t) = f_c + k_fm(t) = f_c + k_fA_mcos(2\\pi f_mt) = f_c + \\Delta fcos(2\\pi f_mt)\n",
    "\\end{equation}\\tag{6}"
   ]
  },
  {
   "cell_type": "markdown",
   "metadata": {},
   "source": [
    "Da mesma forma, o ângulo de s(t) pode ser reescrito como abaixo.\n",
    "\\begin{equation}\n",
    "\\theta(t) = 2\\pi \\int^t_0f_c+\\Delta fcos(2\\pi f_m\\tau)d\\tau = 2\\pi f_ct + \\frac{2\\pi \\Delta f}{2\\pi f_m}sen(2\\pi f_mt) = 2\\pi f_ct + \\frac{\\Delta f}{f_m}sen(2\\pi f_mt)\n",
    "\\end{equation}\\tag*{(7.1)}\n",
    "\n",
    "\\begin{equation}\n",
    "\\theta_i(t) = 2\\pi f_ct + \\beta sen(2\\pi f_mt)\n",
    "\\end{equation}\\tag*{(7.2)}\n",
    "\n",
    "\\begin{equation}\n",
    "\\beta = \\frac{\\Delta f}{f_m}\n",
    "\\end{equation}\\tag*{(7.3)}"
   ]
  },
  {
   "cell_type": "markdown",
   "metadata": {},
   "source": [
    "Assim, s(t) assume a forma a seguir.\n",
    "\n",
    "\\begin{equation}\n",
    "s(t) = A_c cos(2\\pi f_ct + \\beta sen(2\\pi f_mt))\n",
    "\\end{equation}\\tag{8}"
   ]
  },
  {
   "cell_type": "markdown",
   "metadata": {},
   "source": [
    "O parâmetro $\\beta$ é chamado de **índice de modulação** e $\\Delta$ de **desvio de frequência**. Enquanto $k_f$ serve para controlar a variação de frequência da onda FM, o $\\beta$ determina a variação máxima de ângulo.\n",
    "\n",
    "Transmissores FM comerciais (FCC, ANATEL) usam um desvio de frequência máximo de 75kHz e uma frequência máxima do sinal mensagem de 15 kHz, resultando em um índice de modulação máximo de 5. \n",
    "\n",
    "Dependendo do índice de modulação, são definidos dois tipos de modulação FM: (i) modulação FM banda estreita (NBFM); e (ii) modulação FM banda larga (WBFM).\n",
    "\n",
    "* **Caso 1:** FM de banda estreita (_narrowband FM_): $\\beta$ é pequeno em comparação com 1 radiano ( < 0,3 radiano). Comportamento similar à modulação AM. **Algumas aplicações dessa modulação são**: _magnetic tape storage_ (porções de luminância do sinal de vídeo em videocassetes); serviços de voz (quando a fidelidade de áudio não é importante, e.g. radio amador); e GSM (GMSK).\n",
    "\n",
    "* **Caso 2:** FM de banda larga (_wideband FM_): $\\beta$ é grande em comparação com 1 radiano. Esse é o caso do FM comercial e outras aplicações tais como áudio da TV e sistemas AMPS ($f_m$= 3 kHz; $\\Delta f$ = 12 kHz). "
   ]
  },
  {
   "cell_type": "markdown",
   "metadata": {},
   "source": [
    "No Brasil, a faixa de FM comercial permitida é de 88 a 108 MHz. Essa faixa é dividida em porções de 200kHz, o que daria um total de 100 estações de rádio. Na prática, são utilizadas no máximo 50 estações de rádio numa mesma região, pois não é permitido que duas emissoras ocupem faixas vizinhas. Isso é uma maneira de prevenir interferências de uma estação na outra e para permitir transmissão de sinais de áudio estéreo (veja figura abaixo).\n",
    "\n",
    "![fig3](../FIGS/H07/fig3.png)\n",
    "\n",
    "Até 1961, toda a transmissão FM era monofônica; a partir dessa época passaram a ser autorizadas as transmissões FM comerciais em dois canais. O principal problema em introduzir transmissões estereofônicas era a compatibilidade com os receptores monofônicos.\n",
    "\n",
    "Assim, devia ser criada uma estratégia que permitisse que os sinais l(t) (_left_ = esquerdo) e r(t) (_right_ = direito), que são as informações de estéreo, fossem codificados de tal forma que os receptores estéreos pudessem decodificá-las e os receptores monofônicos também. \n",
    "\n",
    "De maneira simples, no transmissor FM, o canal esquerdo l(t) e direito r(t) são misturados, gerando os sinais de soma l(t) + r(t) e diferença l(t) - r(t). Assim, receptores monofônicos poderiam trabalhar com o sinal de soma l(t) + r(t), enquanto que receptores estéreos recuperariam os dois canais como abaixo:\n",
    "\n",
    "* Canal l(t): soma do sinal soma e do sinal diferença = l(t) + r(t) + l(t) - r(t) ~l(t)\n",
    "\n",
    "* Canal r(t): diferença do sinal soma e do sinal diferença = l(t) + r(t) - l(t) + r(t) ~r(t)"
   ]
  },
  {
   "cell_type": "markdown",
   "metadata": {},
   "source": [
    "### Dongle\n",
    "Dongle RTL SDR é um dispositivo SDR barato que possibilita taxa de amostragem de até 2.56MS/s sem perdas e usado para DAB/DAB+/ Demodulação FM, a faixa de frequência varia de 52-2200 Mhz.\n",
    "\n",
    "O Dongle E4000 pode ser comprado no Amazon por apenas $20, por isso se torna uma boa escolha para uso de fins acadêmicos, pode utiliza-lo no GNURadio e em diversos outros programas.\n",
    "\n",
    "![dongle](../FIGS/H07/dongle.png#center)"
   ]
  },
  {
   "cell_type": "markdown",
   "metadata": {},
   "source": [
    "## Exercício\n",
    "### Objetivo: \n",
    "Demodulação FM usando o software GNURadio GRC e o dispositivo Dongle SDR TV Digital.\n",
    "\n",
    "**Passo 1:** 1.\tConecte o dongle e abra um terminal para testá-lo. Digite: rtl_test.\n",
    "\n",
    "![rtltesterror](../FIGS/H07/rtltesterror.png)\n",
    "\n",
    "Para resolver esse problema, consulte a apresentação sobre instalação do dongle. Mas, uma solução rápida para o erro “Kernel driver is active...” é digitar:\n",
    "\n",
    "    sudo rmmod rtl2832_sdr dvb_usb_rtl28xxu \n",
    "\n",
    "![rtltestfix](../FIGS/H07/rtltestfix.png)\n",
    "\n",
    "**Passo 2:** Inicialize o GNU Radio Companion\n",
    "\n",
    "    a) Abra um terminal digitando CRTL+ALT+t e digite: gnuradio-companion e pressione ENTER.\n",
    "\n",
    "![gnuradiocomp](../FIGS/H07/gnuradiocomp.png)\n",
    "\n",
    "ALTERNATIVA\n",
    "\n",
    "    b) Clique em Show Applications (canto inferior esquerdo da tela) e digite \"gnuradio\" e clique no ícone correspondente ao GRC.\n",
    "\n",
    "![gnuradio](../FIGS/H07/gnuradio.png)\n",
    "\n",
    "**Passo 3:** Com o GNU Radio aberto, crie um novo projeto.\n",
    "\n",
    "![novoprojeto](../FIGS/H07/novoprojeto.png)"
   ]
  },
  {
   "cell_type": "markdown",
   "metadata": {},
   "source": [
    "**Passo 4:** Clique duas vezes no bloco **Options**. Esse bloco configura alguns parâmetros gerais de flowgraph. Mantenha o _ID_ como top_block. Digite um título para o projeto e um autor. Selecione _GenerateOptions_ com QT GUI, _Run_ para Autostart e _Realtime Scheduling_ para Off. Clique em \"OK\" e feche a janela de propriedades.\n",
    "\n",
    "![options](../FIGS/H07/options.png)\n",
    "\n",
    "**Passo 5:** Monte um flowgraph como os seguintes blocos: **Osmocom Source**, 3 blocos **QT GUI Range** e um **QT GUI Frequency Sink**. Os blocos devem ser conectados como na figura a seguir.\n",
    "\n",
    "![flow1](../FIGS/H07/flow1.png)\n",
    "\n",
    "**Passo 6:** Clique duas vezes no bloco **Osmocom Source** e configure-o como abaixo. Defina _Sync_ para Don't Sync, _Ch0: Center Freq (Hz)_ como usrp_freq+fine_tune e o _Ch0: Gain (dB, Ch0: IF Gain (dB) e Ch0: BB Gain (dB))_ como rf_gain.\n",
    "\n",
    "    Obs.: mesmo depois de todas essas configurações o bloco ainda pode continuar vermelho, principalmente porque as variáveis ainda não foram definidas.\n",
    "\n",
    "![osmocom](../FIGS/H07/osmocom.png)\n",
    "\n",
    "**Passo 7:** Clique duas vezes no primeiro bloco **QT GUI Range** e configure-o como na figura a seguir. Defina o _ID_ como usrp_freq, _Label_ como Frequencia Central, _Default Value_ como 98.9e6, _Start_ como 88e6, _Stop_ como 108e6 e _Step_ como 100e3.\n",
    "    \n",
    "    Obs.: Não use acentos para os Labels. Isso pode gerar problemas de salvamento no arquivo.\n",
    "\n",
    "![qtgui1](../FIGS/H07/qtgui1.png)\n",
    "\n",
    "**Passo 8:** Clique duas vezes no segundo bloco **QT GUI Range** e configure-o como na figura a seguir. Defina o _ID_ como rf_gain, _Label_ como Ganho de RF, _Default Value_ como 30, _Start_ como 0, _Stop_ como 50 e _Step_ como 3. \n",
    "\n",
    "![qtgui2](../FIGS/H07/qtgui2.png)\n",
    "\n",
    "**Passo 9:** Clique duas vezes no terceiro bloco **QT GUI Range** e configure-o como na figura a seguir. Defina o _ID_ como fine_tune, _Label_ como Fine Frequency, _Default Value_ como 0, _Start_ como -250e3, _Stop_ como 250e3 e _Step_ 1e3.\n",
    "\n",
    "![qtgui3](../FIGS/H07/qtgui3.png)\n"
   ]
  },
  {
   "cell_type": "markdown",
   "metadata": {},
   "source": [
    "**Passo 10:** Clique duas vezes no bloco **QT GUI Frequency Sink** e configure-o como na figura a seguir. Defina _Center Frequency (Hz)_ como usrp_freq+fine_tune, _Bandwidth (Hz)_ como samp_rate, _Y Label_ como Relative Gain, _Y Units_ como dB. Na aba _Config_, configure _Control Panel_ para Yes. \n",
    "\n",
    "![freqsink](../FIGS/H07/freqsink.png)\n",
    "\n",
    "![freqsink2](../FIGS/H07/freqsink2.png)\n",
    "\n",
    "**Passo 11:** Agora, precisamos aumentar a taxa de amostragem. Clique duas vezes no bloco **Variable** que tem o _ID_ samp_rate. Mude o valor para 2000000 (2 MHz). O bloco ficará similar a figura a seguir.\n",
    "\n",
    "![var](../FIGS/H07/var.png)\n",
    "\n",
    "**Passo 12:** Salve o projeto com o nome ***hands_on_07_step_01.grc***, gere o _flowgraph_ e execute-o. Agora você será capaz de visualizar o espectro do sinal de RF na frequência selecionada no QT Range. Manipule o painel de controle ao lado e você pode obter a saída similar a mostrado na figura a seguir.\n",
    "\n",
    "![graph1](../FIGS/H07/graph1.png)"
   ]
  },
  {
   "cell_type": "markdown",
   "metadata": {},
   "source": [
    "**Passo 13:** Agora vamos criar um receptor WBFM. Crie um novo projeto, deixando-o como na figura abaixo. Serão necessários os seguintes blocos: 4 **QT GUI Range**, um **Osmocom Source**, 3 **Rational Ressampler**, um **WBFM Receive PLL**, 2 **QT GUI Frequency Sink**, 2 **Multiply** e um **Audio Sink**.\n",
    "\n",
    "![flow2](../FIGS/H07/flow2.png)\n",
    "\n",
    "**Passo 14:** Os blocos **QT GUI Range** devem ser configurados como a seguir.\n",
    "\n",
    "![qtgui1](../FIGS/H07/qtgui1.png)\n",
    "\n",
    "![qtgui2](../FIGS/H07/qtgui2.png)\n",
    "\n",
    "![qtgui03](../FIGS/H07/qtgui03.png)\n",
    "\n",
    "![qtgui04](../FIGS/H07/qtgui04.png)\n",
    "\n"
   ]
  },
  {
   "cell_type": "markdown",
   "metadata": {},
   "source": [
    "**Passo 15:** O bloco **Osmocom Source** deve ser configurado como antes. Defina o _Ch0: Center Freq (Hz)_ como usrp_freq+fine_tune e o _Ch0: Gain (dB, Ch0: IF Gain (dB) e Ch0: BB Gain (dB))_ como rf_gain.\n",
    "\n",
    "![osmocom2](../FIGS/H07/osmocom2.png)\n",
    "\n",
    "**Passo 16:** O próximo bloco a ser configurado é o **Rational Resampler** depois do bloco **Osmocom Source**, que tem a função de converter a taxa de amostragem. Ele usa a seguinte fórmula para calcular a nova taxa de amostragem: \n",
    "\n",
    "\\begin{equation*}\n",
    "tx_{saida}=tx_{entrada} \\left(\\frac{interpolação}{decimação}\\right). \n",
    "\\end{equation*}\n",
    "\n",
    "No nosso caso, a taxa desejada é de 500kHz e a de entrada é de 2MHz, por isso configuramos o _Interpolation_ sendo 1 e o _Decimation_ sendo 4.\n",
    "\n",
    "![rr1](../FIGS/H07/rr1.png)\n",
    "\n",
    "**Passo 17:** O terceiro bloco a ser configurado é o bloco de Demodulação FM Estéreo, o **WBFM Receive PLL**. Este bloco possui duas saídas na Demodulação, a saída esquerda _Lout_ e a direita _Rout_. Ele também pode realizar a compactação no tempo do áudio recebido, o parâmetro _Audio Decimation_ controla o quanto o áudio será compactado. No nosso caso, o _Quadrature Rate_ não sofrerá redução.\n",
    "\n",
    "![wbfm](../FIGS/H07/wbfm.png)\n",
    "\n",
    "**Passo 18:** Os próximos blocos a serem configurados são os **Rational Resamplers** na saída do bloco **WBFM Receive PLL**, que tem a função de converter a taxa de amostragem adequada para a placa de som do computador. No nosso caso, a taxa desejada é de 48kHz e a de entrada é de 500kHz, por isso configuramos o _Interpolation_ com 48 e o _Decimation_ com 500.\n",
    "\n",
    "![rr2](../FIGS/H07/rr2.png)\n",
    "\n",
    "![rr2](../FIGS/H07/rr2.png)\n"
   ]
  },
  {
   "cell_type": "markdown",
   "metadata": {},
   "source": [
    "**Passo 19:**\tConfigure os blocos **QT GUI Frequency Sink** como a seguir. Em um bloco configure _Y Label_ para Canal L e _GUI Hint_ para 0,0,1,1. No ***outro*** bloco configure _Y Label_ para Canal R e _GUI Hint_ para 0,1,1,1.\n",
    "\n",
    "![sink1](../FIGS/H07/sink1.png)\n",
    "\n",
    "![sink2](../FIGS/H07/sink2.png)\n",
    "\n",
    "**Passo 20:** Vamos agora inserir um amplificador de sinal nas duas saídas dos blocos **Rational Resampler**, ou seja, dois blocos **Multiply Const** com parâmetro _Const_ igual a audio_gain e conectá-los na entrada do bloco **Audio Sink**; este será responsável pela saída do áudio demodulado.\n",
    "\n",
    "![multiply](../FIGS/H07/multiply.png)\n",
    "\n",
    "![audiosink](../FIGS/H07/audiosink.png)\n",
    "\n",
    "**Passo 21:**  Feito isso, gere o _Flowgraph_ e execute-o. Deverá aparecer o espectro em banda-base de cada canal demodulado pelo Dongle.\n",
    "\n",
    "![graph2](../FIGS/H07/graph2.png)\n"
   ]
  }
 ],
 "metadata": {
  "interpreter": {
   "hash": "89ebff69fb7a4f8c65396050cb6396c99ca60abd05f19c10a1e6277d1303cc7a"
  },
  "kernelspec": {
   "display_name": "Python 3.9.1 64-bit",
   "language": "python",
   "name": "python3"
  },
  "language_info": {
   "codemirror_mode": {
    "name": "ipython",
    "version": 3
   },
   "file_extension": ".py",
   "mimetype": "text/x-python",
   "name": "python",
   "nbconvert_exporter": "python",
   "pygments_lexer": "ipython3",
   "version": "3.9.1"
  },
  "orig_nbformat": 4
 },
 "nbformat": 4,
 "nbformat_minor": 2
}
