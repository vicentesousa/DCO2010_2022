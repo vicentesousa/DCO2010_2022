{
 "cells": [
  {
   "cell_type": "markdown",
   "metadata": {},
   "source": [
    "# Hands-on 7 - DCO2010: Laboratório de Radio Definido por Software\n",
    "\n",
    "## Receptor WBFM usando o Dongle"
   ]
  },
  {
   "cell_type": "markdown",
   "metadata": {},
   "source": [
    "## Introdução Teórica\n",
    "Todo processo de modulação analógica envolve uma operação (função) entre a onda modulante m(t) e a onda portadora c(t).\n",
    "\n",
    "![fig1](../FIGS/H07/fig1.png)\n",
    "\n",
    "O modulador FM produz uma onda no qual a frequência instantânea varia linearmente com o sinal mensagem:\n",
    "\\begin{equation}\n",
    "f_i(t) = f_c + k_{f}m(t)\n",
    "\\end{equation} \\tag*{(1)}\n",
    "sendo $k_f$ um parâmetro de projeto chamado **sensibilidade de frequência do modulador (Hz/volt)**. Sabemos que a relação ângulo-frequência é:\n",
    "\\begin{equation}\n",
    "f_i(t) = \\frac{1}{2\\pi} \\frac{d\\theta(t)}{dt}\n",
    "\\end{equation} \\tag*{(2)}\n",
    "\n",
    "\\begin{equation}\n",
    "\\theta_i(t) = 2\\pi \\int^t_0 f_i(\\tau)d\\tau\n",
    "\\end{equation}\\tag*{(3)}\n"
   ]
  },
  {
   "cell_type": "markdown",
   "metadata": {},
   "source": [
    "Dessa forma, desconsiderando o desvio de fase da onda portadora ($\\phi$ = 0), o modulador FM produz a onda s(t) a seguir.\n",
    "\\begin{equation}\n",
    "s(t) = A_c cos\\left(2\\pi f_ct + 2\\pi k_f \\int^t_0 m(\\tau)d\\tau \\right)\n",
    "\\end{equation}\\tag*{(4)}\n",
    "\n",
    "Então, a onda FM s(t) é uma função não linear da onda moduladora m(t). Portanto, a modulação em frequência é um processo não linear de modulação. Sua caracterização temporal pode ser visualizada na figura a seguir.\n",
    "\n",
    "![fig2](../FIGS/H07/fig2.png)"
   ]
  },
  {
   "cell_type": "markdown",
   "metadata": {},
   "source": [
    "Por simplicidade, consideremos m(t) um tom, como abaixo.\n",
    "\\begin{equation}\n",
    "m(t) = A_m cos(2\\pi f_mt)\n",
    "\\end{equation}\\tag{5}\n",
    "\n",
    "A frequência instantânea da onda FM pode ser reescrita como abaixo.\n",
    "\\begin{equation}\n",
    "f_i(t) = f_c + k_fm(t) = f_c + k_fA_mcos(2\\pi f_mt) = f_c + \\Delta fcos(2\\pi f_mt)\n",
    "\\end{equation}\\tag{6}"
   ]
  },
  {
   "cell_type": "markdown",
   "metadata": {},
   "source": [
    "Da mesma forma, o ângulo de s(t) pode ser reescrito como abaixo.\n",
    "\\begin{equation}\n",
    "\\theta(t) = 2\\pi \\int^t_0f_c+\\Delta fcos(2\\pi f_m\\tau)d\\tau = 2\\pi f_ct + \\frac{2\\pi \\Delta f}{2\\pi f_m}sen(2\\pi f_mt) = 2\\pi f_ct + \\frac{\\Delta f}{f_m}sen(2\\pi f_mt)\n",
    "\\end{equation}\\tag*{(7.1)}\n",
    "\n",
    "\\begin{equation}\n",
    "\\theta_i(t) = 2\\pi f_ct + \\beta sen(2\\pi f_mt)\n",
    "\\end{equation}\\tag*{(7.2)}\n",
    "\n",
    "\\begin{equation}\n",
    "\\beta = \\frac{\\Delta f}{f_m}\n",
    "\\end{equation}\\tag*{(7.3)}"
   ]
  },
  {
   "cell_type": "markdown",
   "metadata": {},
   "source": [
    "Assim, s(t) assume a forma a seguir.\n",
    "\n",
    "\\begin{equation}\n",
    "s(t) = A_c cos(2\\pi f_ct + \\beta sen(2\\pi f_mt))\n",
    "\\end{equation}\\tag{8}"
   ]
  },
  {
   "cell_type": "markdown",
   "metadata": {},
   "source": [
    "O parâmetro $\\beta$ é chamado de **índice de modulação** e $\\Delta$ de **desvio de frequência**. Enquanto $k_f$ serve para controlar a variação de frequência da onda FM, o $\\beta$ determina a variação máxima de ângulo.\n",
    "\n",
    "Transmissores FM comerciais (FCC, ANATEL) usam um desvio de frequência máximo de 75kHz e uma frequência máxima do sinal mensagem de 15 kHz, resultando em um índice de modulação máximo de 5. \n",
    "\n",
    "Dependendo do índice de modulação, são definidos dois tipos de modulação FM: (i) modulação FM banda estreita (NBFM); e (ii) modulação FM banda larga (WBFM).\n",
    "\n",
    "* **Caso 1:** FM de banda estreita (_narrowband FM_): $\\beta$ é pequeno em comparação com 1 radiano ( < 0,3 radiano). Comportamento similar à modulação AM. **Algumas aplicações dessa modulação são**: _magnetic tape storage_ (porções de luminância do sinal de vídeo em videocassetes); serviços de voz (quando a fidelidade de áudio não é importante, e.g. radio amador); e GSM (GMSK).\n",
    "\n",
    "* **Caso 2:** FM de banda larga (_wideband FM_): $\\beta$ é grande em comparação com 1 radiano. Esse é o caso do FM comercial e outras aplicações tais como áudio da TV e sistemas AMPS ($f_m$= 3 kHz; $\\Delta f$ = 12 kHz). "
   ]
  },
  {
   "cell_type": "markdown",
   "metadata": {},
   "source": [
    "No Brasil, a faixa de FM comercial permitida é de 88 a 108 MHz. Essa faixa é dividida em porções de 200kHz, o que daria um total de 100 estações de rádio. Na prática, são utilizadas no máximo 50 estações de rádio numa mesma região, pois não é permitido que duas emissoras ocupem faixas vizinhas. Isso é uma maneira de prevenir interferências de uma estação na outra e para permitir transmissão de sinais de áudio estéreo (veja figura abaixo).\n",
    "\n",
    "![fig3](../FIGS/H07/fig3.png)\n",
    "\n",
    "Até 1961, toda a transmissão FM era monofônica; a partir dessa época passaram a ser autorizadas as transmissões FM comerciais em dois canais. O principal problema em introduzir transmissões estereofônicas era a compatibilidade com os receptores monofônicos.\n",
    "\n",
    "Assim, devia ser criada uma estratégia que permitisse que os sinais l(t) (_left_ = esquerdo) e r(t) (_right_ = direito), que são as informações de estéreo, fossem codificados de tal forma que os receptores estéreos pudessem decodificá-las e os receptores monofônicos também. \n",
    "\n",
    "De maneira simples, no transmissor FM, o canal esquerdo l(t) e direito r(t) são misturados, gerando os sinais de soma l(t) + r(t) e diferença l(t) - r(t). Assim, receptores monofônicos poderiam trabalhar com o sinal de soma l(t) + r(t), enquanto que receptores estéreos recuperariam os dois canais como abaixo:\n",
    "\n",
    "* Canal l(t): soma do sinal soma e do sinal diferença = l(t) + r(t) + l(t) - r(t) ~l(t)\n",
    "\n",
    "* Canal r(t): diferença do sinal soma e do sinal diferença = l(t) + r(t) - l(t) + r(t) ~r(t)"
   ]
  },
  {
   "cell_type": "markdown",
   "metadata": {},
   "source": [
    "### Dongle\n",
    "Dongle RTL SDR é um dispositivo SDR barato que possibilita taxa de amostragem de até 2.56MS/s sem perdas e usado para DAB/DAB+/ Demodulação FM, a faixa de frequência varia de 52-2200 Mhz.\n",
    "\n",
    "O Dongle E4000 pode ser comprado no Amazon por apenas $20, por isso se torna uma boa escolha para uso de fins acadêmicos, pode utiliza-lo no GNURadio e em diversos outros programas.\n",
    "\n",
    "![dongle](../FIGS/H07/dongle.png#center)"
   ]
  },
  {
   "cell_type": "markdown",
   "metadata": {},
   "source": [
    "## Exercício\n",
    "### Objetivo: \n",
    "Demodulação FM usando o software GNURadio GRC e o dispositivo Dongle SDR TV Digital.\n",
    "\n",
    "**Passo 1:** 1.\tConecte o dongle e abra um terminal para testá-lo. Digite: rtl_test\n",
    "\n",
    "![rtltesterror](../FIGS/H07/rtltesterror.png)\n",
    "\n",
    "Para resolver esse problema, consulte a apresentação sobre instalação do dongle. Mas, uma solução rápida para o erro “Kernel driver is active...” é digitar:\n",
    "\n",
    "    sudo rmmod rtl2832_sdr dvb_usb_rtl28xxu \n",
    "\n",
    "![rtltestfix](../FIGS/H07/rtltestfix.png)\n",
    "\n",
    "**Passo 2:** Inicialize o GNU Radio Companion\n",
    "\n",
    "    a) Abra um terminal digitando CRTL+ALT+t e digite: gnuradio-companion e pressione ENTER\n",
    "\n",
    "![gnuradiocomp](../FIGS/H07/gnuradiocomp.png)\n",
    "\n",
    "ALTERNATIVA\n",
    "    b) Clique em Show Applications (canto inferior esquerdo da tela) e digite \"gnuradio\" e clique no ícone correspondente ao GRC\n",
    "\n",
    "![gnuradio](../FIGS/H07/gnuradio.png)"
   ]
  }
 ],
 "metadata": {
  "interpreter": {
   "hash": "89ebff69fb7a4f8c65396050cb6396c99ca60abd05f19c10a1e6277d1303cc7a"
  },
  "kernelspec": {
   "display_name": "Python 3.9.1 64-bit",
   "language": "python",
   "name": "python3"
  },
  "language_info": {
   "codemirror_mode": {
    "name": "ipython",
    "version": 3
   },
   "file_extension": ".py",
   "mimetype": "text/x-python",
   "name": "python",
   "nbconvert_exporter": "python",
   "pygments_lexer": "ipython3",
   "version": "3.9.1"
  },
  "orig_nbformat": 4
 },
 "nbformat": 4,
 "nbformat_minor": 2
}
