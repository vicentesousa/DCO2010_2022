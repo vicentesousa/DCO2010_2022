{
 "cells": [
  {
   "cell_type": "markdown",
   "metadata": {
    "id": "JRA6fY63WhTw"
   },
   "source": [
    "## GNU Radio 3.9 instalação via pacotes apt-get\n",
    "\n",
    "## Objetivo\n",
    "- Instalar e configurar o GNU Radio 3.9 no Ubuntu 20.04.3 LTS (Focal Fossa) com suporte a USRP e ao driver RTL-SDR usando o gerenciador de pacotes apt-get."
   ]
  },
  {
   "cell_type": "markdown",
   "metadata": {
    "id": "zZp75kDdUlEX"
   },
   "source": [
    "## Parte 1: Instalação do UHD (Para uso da USRP)\n",
    "\n",
    "De acordo com o site https://wiki.gnuradio.org/index.php/InstallingGR#From_Source para utilizar a USRP junto  com o GNU Radio é necessário instalar software USRP Hardware Driver (UHD). \n",
    "\n",
    "Abra o terminal do linux, pode ser feito de duas formas: com o atalho **Ctrl+Alt+T** ou pesquisando na Home a palavra terminal:\n",
    "\n",
    "**Passo 1:** Para dar inicio a instalação utilize o comando a seguir:\n",
    "\n",
    "```bash\n",
    "sudo apt-get update\n",
    "sudo apt-get -y upgrade\n",
    "```\n",
    "Você verá uma saída similar a:\n",
    "\n",
    "![sudoaptgetupdate](../FIGS/H00/uhd/sudo-apt-get_update.png)\n",
    "\n",
    "**Passo 2:** Instalação de dependências necessárias:\n",
    "\n",
    "```bash\n",
    "sudo apt install -y vim git wget cmake g++ libboost-all-dev libgmp-dev swig python3-numpy \\\n",
    "python3-mako python3-sphinx python3-lxml doxygen libfftw3-dev \\\n",
    "libsdl1.2-dev libgsl-dev libqwt-qt5-dev libqt5opengl5-dev python3-pyqt5 \\\n",
    "liblog4cpp5-dev libzmq3-dev python3-yaml python3-click python3-click-plugins \\\n",
    "python3-zmq python3-scipy python3-gi python3-gi-cairo gir1.2-gtk-3.0 \\\n",
    "libcodec2-dev libgsm1-dev\n",
    "#\n",
    "pip3 install packaging\n",
    "#\n",
    "sudo apt install -y pybind11-dev python3-matplotlib libsndfile1-dev \\\n",
    "python3-pip libsoapysdr-dev soapysdr-tools\n",
    "pip3 install pygccxml\n",
    "pip3 install pyqtgraph\n",
    "#\n",
    "pip3 install ruamel.yaml gevent mprpc pyudev pyroute2\n",
    "```\n",
    "\n",
    "Você verá uma saída similar a:\n",
    "\n",
    "![dependencias](../FIGS/H00/uhd/instalação_bibliotecas.png)\n",
    "\n",
    "**Passo 3:** Entre em sua área de trabalho : \n",
    "\n",
    "```bash\n",
    "cd ~\n",
    "```"
   ]
  },
  {
   "cell_type": "markdown",
   "metadata": {
    "id": "5HEy_xZxyGKl"
   },
   "source": [
    "**Passo 4:** Com o comando mkdir crie uma pasta chamada **workarea**:\n",
    "\n",
    "```bash\n",
    "mkdir workarea\n",
    "```\n",
    "Você verá uma saída similar a:\n",
    "\n",
    "![Virtual1](../FIGS/H00/uhd/mkdir_workarea.png)\n",
    "\n",
    "**Passo 5:** Entre na pasta criada com o comando cd:\n",
    "\n",
    "```bash\n",
    "cd workarea\n",
    "```\n",
    "\n",
    "Você verá uma saída similar a:\n",
    "\n",
    "![Virtual1](../FIGS/H00/uhd/cd_workarea)\n",
    "\n",
    "**Passo 6:** Instale o uhd:\n",
    "\n",
    "```bash\n",
    "sudo apt-get -y install dpdk\n",
    "sudo apt-get -y install uhd-host\n",
    "```"
   ]
  },
  {
   "cell_type": "markdown",
   "metadata": {
    "id": "5I8QC7Ic8StX"
   },
   "source": [
    "**Passo 7:** Você pode testar isso rapidamente, sem nenhum dispositivo USRP conectado, executando no terminal:\n",
    "\n",
    "```bash\n",
    "uhd_find_devices\n",
    "```\n",
    "\n",
    "Você verá uma saída similar a:\n",
    "\n",
    "![Virtual1](../FIGS/H00/uhd/uhd_find_devices.png)\n",
    "\n",
    "\n",
    "**Passo 8:** Configurar a USRP na máquina virtual.\n",
    "\n",
    "Se você tiver em um máquina virtual, será preciso habilitar uma segunda placa de rede. Com a máquina desligada, você poderá habilitar a segunda placa de rede indo no menu **Configurações** da máquina no VirtualBox e deixar a tela similar a figura a seguir. \n",
    "\n",
    "![Virtual1](../FIGS/H00/uhd/usrp_config.png)\n",
    "\n",
    "\n",
    "**Passo 9:** Configurar a USRP na máquina virtual.\n",
    "\n",
    "Agora, com a máquina ligada, você precisa definir um IP Fixo na segunda placa de rede indo no menu **Configurações->Rede** do Ubuntu. Você precisa abrir uma tela similar a figura a seguir. \n",
    "\n",
    "![Virtual1](../FIGS/H00/uhd/usrp_config1.png)\n",
    "\n",
    "**Passo 10:** Configurar o IP **198.162.10.1** na segunda placa de rede da máquina virtual e a máscara **255.255.255.0**.\n",
    "\n",
    "![Virtual1](../FIGS/H00/uhd/usrp_config2.png)\n",
    "\n",
    "**Passo 11:** Com o dispositivo USRP conectado, execute no terminal:\n",
    "\n",
    "uhd_usrp_probe\n",
    "\n",
    "Você verá uma saída similar a:\n",
    "\n",
    "![Virtual1](../FIGS/H00/uhd/usrp_test.png)\n",
    "\n"
   ]
  },
  {
   "cell_type": "markdown",
   "metadata": {},
   "source": [
    "## Parte 2: Instalação do Driver RTL-SDR (dongle)\n",
    "\n",
    "**Passo 1:** instalação de algumas dependências\n",
    "```bash\n",
    "cd ~/workarea\n",
    "sudo apt-get install -y libusb-1.0-0-dev librtlsdr-dev sox\n",
    "```\n",
    "\n",
    "**Passo 2:** instalar do RTL-SDR\n",
    "\n",
    "```bash\n",
    "sudo apt-get -y install rtl-sdr\n",
    "```\n",
    "\n",
    "**Passo 3:** Testar o RTL-SDR (com o Dongle plugado na máquina)\n",
    "\n",
    "```bash\n",
    "rtl_test\n",
    "```\n",
    "\n",
    "**Passo 4:** Testar receptor FM com o RTL-SDR (com o Dongle plugado na máquina)\n",
    "\n",
    "```bash\n",
    "rtl_fm -f 98.9M -M wbfm -s 512k -A fast -r 32k -l 0 -E deemp | play -t raw -r 32k -es -b 16 -c 1 -V1 -\n",
    "```"
   ]
  },
  {
   "cell_type": "markdown",
   "metadata": {
    "id": "veoCZ0S_E8uk"
   },
   "source": [
    "## Parte 3: Instalação do GNU Radio 3.9 \n",
    "\n",
    "**Passo 1:** Em um terminal, digite os comandos na sequência:\n",
    "\n",
    "```bash\n",
    "sudo add-apt-repository ppa:gnuradio/gnuradio-releases-3.9\n",
    "sudo apt-get update\n",
    "sudo apt-get install -y gnuradio\n",
    "```\n",
    "\n",
    "**Passo 2:** Vamos baixar o código fonte do GNU RADIO (com alguns exemplos). Em um terminal, digite os comandos na sequência:\n",
    "\n",
    "```bash\n",
    "cd ~/workarea/gnuradio\n",
    "git clone --recursive https://github.com/gnuradio/gnuradio\n",
    "git checkout maint-3.9\n",
    "```"
   ]
  },
  {
   "cell_type": "markdown",
   "metadata": {},
   "source": [
    "### Para abrir o GNU Radio"
   ]
  },
  {
   "cell_type": "markdown",
   "metadata": {},
   "source": [
    "1- O GNURadio pode ser aberto pelo terminal com o comando:\n",
    "\n",
    "```bash\n",
    "gnuradio-companion\n",
    "```\n",
    "\n",
    "Você poderá ver uma saída similar a:\n",
    "\n",
    "![Virtual1](../FIGS/H00/gnuradio/terminal.png)\n",
    "\n",
    "2- Ele também pode ser aberto pela sua área de trabalho:\n",
    "\n",
    "![Virtual1](../FIGS/H00/gnuradio/gnuradio-home.png)\n"
   ]
  },
  {
   "cell_type": "markdown",
   "metadata": {},
   "source": [
    "## Parte 4: Teste de Instalação do GNU Radio sem dispositvo de SDR"
   ]
  },
  {
   "cell_type": "markdown",
   "metadata": {},
   "source": [
    "**Passo 1:** Abra o gnuradio e localize o exemplo **ofdm_loopback.grc**:\n",
    "\n",
    "![Virtual1](../FIGS/H00/gnuradio/caminho_exemplo.png)\n",
    "\n",
    "**Passo 2:** Em seguida, execute o exemplo como na figura a seguir:\n",
    "\n",
    "![Virtual1](../FIGS/H00/gnuradio/exemplo.png)\n",
    "\n",
    "**Passo 3:** Sua saída deve ser similar a:\n",
    "\n",
    "![Virtual1](../FIGS/H00/gnuradio/saida_ofdm.png)"
   ]
  },
  {
   "cell_type": "markdown",
   "metadata": {},
   "source": [
    "## Parte 5: Teste de Instalação do GNU Radio com USRP"
   ]
  },
  {
   "cell_type": "markdown",
   "metadata": {},
   "source": [
    "**Passo 1:** Precisaremos de um dispositivo Dongle para testar o GNU Radio. Caso não tenha feito, repita os **passos 8, 9, 10** da **Parte 1: Instalação do UHD** para habilitar a USRP em sua máquina.\n",
    "\n",
    "\n",
    "**Passo 2:** Abra o GNURADIO, localize e abra o exemplo **USRP_FM_stereo.grc**. O arquivo está na pasta **gr-analog** (veja a figura a seguir):\n",
    "\n",
    "![Virtual1](../FIGS/H00/gnuradio/test_USRP.png)\n",
    "\n",
    "Ao abrir o exemplo **USRP_FM_stereo.grc**, você verá um tela similar a:\n",
    "\n",
    "![Virtual1](../FIGS/H00/gnuradio/test_USRP1.png)\n",
    "\n",
    "**Passo 3:** Desabilite o bloco **Soapy Custom Source**:\n",
    "\n",
    "![Virtual1](../FIGS/H00/gnuradio/test_USRP2.png)\n",
    "\n",
    "**Passo 4:** Habilite o bloco **UHD: USRP Source**:\n",
    "\n",
    "![Virtual1](../FIGS/H00/gnuradio/test_USRP3.png)\n",
    "\n",
    "**Passo 5:** Configure a taxa de amostragem para 3.2M no bloco **Variable samp_rate**:\n",
    "\n",
    "![Virtual1](../FIGS/H00/gnuradio/test_USRP4.png)\n",
    "\n",
    "**Passo 6:** Configure a entrada de RF (Ch0: Antenna) para TX/RX no bloco **UHD: USRP Source** (caso use a entrada RF1 da USPR):\n",
    "\n",
    "![Virtual1](../FIGS/H00/gnuradio/test_USRP5.png)\n",
    "\n",
    "**Passo 7:** Configure a frequência default para 98.9M no bloco **QT GUI RANGE center_freq** (98FM Natal):\n",
    "\n",
    "![Virtual1](../FIGS/H00/gnuradio/test_USRP6.png)\n",
    "\n",
    "**Passo 8:** execute o flowgraph. Você verá um tela similar a:\n",
    "\n",
    "![Virtual1](../FIGS/H00/gnuradio/test_USRP7.png)"
   ]
  },
  {
   "cell_type": "markdown",
   "metadata": {},
   "source": [
    "## Parte 6: Teste de Instalação do GNU Radio com dongle RTL-SDR"
   ]
  },
  {
   "cell_type": "markdown",
   "metadata": {},
   "source": [
    "**Passo 1:** Precisaremos de um dispositivo USRP para testar o GNU Radio. Caso não tenha feito, repita o **Passo 3** da **Parte 2: Instalação do Driver RTL-SDR (dongle)**. Se estiver em máquina virtual, não esquecer de habilitar o dongle RTL-SDR na máquina virtual. Para isso acesse o Menu do Virtual box da máquina já ligada e vá em **Dispositivos->USB**.\n",
    "\n",
    "![Virtual1](../FIGS/H00/dongle/dongle01.png)\n",
    "\n",
    "**Passo 2:** Abra o GNURADIO, localize e abra o exemplo **USRP_FM_stereo.grc**. O arquivo está na pasta **gr-analog** (veja a figura a seguir):\n",
    "\n",
    "![Virtual1](../FIGS/H00/dongle/test_USRP.png)\n",
    "\n",
    "Ao abrir o exemplo **USRP_FM_stereo.grc**, você verá um tela similar a:\n",
    "\n",
    "![Virtual1](../FIGS/H00/gnuradio/test_USRP1.png)\n",
    "\n",
    "**Passo 3:** Desabilite o bloco **Soapy Custom Source**:\n",
    "\n",
    "![Virtual1](../FIGS/H00/gnuradio/test_USRP2.png)\n",
    "\n",
    "\n",
    "**Passo 4:** Clique na lupa do menu do GNU Radio e escreva **soapy** no campo de busca para achar o bloco chamado **Soapy RTLSDR Source**:\n",
    "\n",
    "![Virtual1](../FIGS/H00/dongle/dongle02.png)\n",
    "\n",
    "**Passo 5:** Arraste o bloco **Soapy RTLSDR Source** e faça a ligação dele com o bloco **FFT Low Pass Filter**.\n",
    "\n",
    "![Virtual1](../FIGS/H00/dongle/dongle03.png)\n",
    "\n",
    "**Passo 6:** Mude a configuração de **RF Options->Center Freq** do  bloco **Soapy RTLSDR Source** para a variável **center_freq**.\n",
    "\n",
    "![Virtual1](../FIGS/H00/dongle/dongle04.png)\n",
    "\n",
    "**Passo 7:** Configure a frequência default para 98.9M no bloco **QT GUI RANGE center_freq** (98FM Natal):\n",
    "\n",
    "![Virtual1](../FIGS/H00/gnuradio/test_USRP6.png)\n",
    "\n",
    "\n",
    "**Passo 8:** Execute o flowgraph e a saída será algo similar a:\n",
    "\n",
    "![Virtual1](../FIGS/H00/dongle/dongle05.png)"
   ]
  }
 ],
 "metadata": {
  "colab": {
   "authorship_tag": "ABX9TyOv/YrUWyaOJMFJUtJoSETL",
   "name": "Untitled23.ipynb",
   "provenance": []
  },
  "kernelspec": {
   "display_name": "Python 3",
   "language": "python",
   "name": "python3"
  },
  "language_info": {
   "codemirror_mode": {
    "name": "ipython",
    "version": 3
   },
   "file_extension": ".py",
   "mimetype": "text/x-python",
   "name": "python",
   "nbconvert_exporter": "python",
   "pygments_lexer": "ipython3",
   "version": "3.6.2"
  }
 },
 "nbformat": 4,
 "nbformat_minor": 1
}
