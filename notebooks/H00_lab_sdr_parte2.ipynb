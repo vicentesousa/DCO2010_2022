{
 "cells": [
  {
   "cell_type": "markdown",
   "metadata": {
    "id": "JRA6fY63WhTw"
   },
   "source": [
    "## GNU Radio 3.9 instalação \n",
    "## Objetivo\n",
    "- Instalar e configurar o GNU Radio 3.9 no Ubuntu 20.04.3 LTS (Focal Fossa)."
   ]
  },
  {
   "cell_type": "markdown",
   "metadata": {
    "id": "zZp75kDdUlEX"
   },
   "source": [
    "## Instalação do UHD (Para uso do USRP)\n",
    "\n",
    "1- De acordo com o site https://wiki.gnuradio.org/index.php/InstallingGR#From_Source para utilizar a USRP junto  com o GNU Radio é necessário instalar software USRP Hardware Driver (UHD). \n",
    "\n",
    "Segue abaixo os passos para instalação a partir do código fonte. Seguindo as instruções de  https://kb.ettus.com/Building_and_Installing_the_USRP_Open-Source_Toolchain_(UHD_and_GNU_Radio)_on_Linux .\n",
    "\n",
    "Abra o terminal do linux, pode ser feito de duas formas com o atalho Ctrl+Alt+T , ou na home e pesquisando a palavra  terminal :\n",
    "\n",
    "i. Para dar inicio a instalação utilize o comando abaixo :\n",
    "> sudo apt-get update\n",
    "\n",
    "![sudoaptgetupdate](../FIGS/H00/uhd/sudo-apt-get update.png)\n",
    "\n",
    "ii. Instalação de dependências necessárias :\n",
    ">  sudo apt-get -y install autoconf automake build-essential ccache cmake cpufrequtils doxygen ethtool fort77 g++ gir1.2-gtk-3.0 git gobject-introspection gpsd gpsd-clients inetutils-tools libasound2-dev libboost-all-dev libcomedi-dev libcppunit-dev libfftw3-bin libfftw3-dev libfftw3-doc libfontconfig1-dev libgmp-dev libgps-dev libgsl-dev liblog4cpp5-dev libncurses5 libncurses5-dev libpulse-dev libqt5opengl5-dev libqwt-qt5-dev libsdl1.2-dev libtool libudev-dev libusb-1.0-0 libusb-1.0-0-dev libusb-dev libxi-dev libxrender-dev libzmq3-dev libzmq5 ncurses-bin python3-cheetah python3-click python3-click-plugins python3-click-threading python3-dev python3-docutils python3-gi python3-gi-cairo python3-gps python3-lxml python3-mako python3-numpy python3-numpy-dbg python3-opengl python3-pyqt5 python3-requests python3-scipy python3-setuptools python3-six python3-sphinx python3-yaml python3-zmq swig wget\n",
    "\n",
    "\n",
    "![dependencias](../FIGS/H00/uhd/instalação_bibliotecas.png)\n",
    "\n",
    "iii. Entre em sua área de trabalho : \n",
    "> cd $HOME"
   ]
  },
  {
   "cell_type": "markdown",
   "metadata": {
    "id": "5HEy_xZxyGKl"
   },
   "source": [
    "iv. Com o comando mkdir crie uma pasta chamada workarea:\n",
    "> mkdir workarea\n",
    "\n",
    "![Virtual1](../FIGS/H00/uhd/mkdir_workarea.png)\n",
    "\n",
    "v.  Entre na pasta criada com o comando cd :\n",
    "> cd workarea\n",
    "\n",
    "![Virtual1](../FIGS/H00/uhd/cd_workarea)\n",
    "\n",
    "vi. Clone o respositório do uhd :\n",
    "\n",
    "> git clone https://github.com/EttusResearch/uhd\n",
    "\n",
    "![Virtual1](../FIGS/H00/uhd/clone_uhd.png)\n",
    "\n",
    "vii. Entre na pasta do uhd :\n",
    "> cd uhd\n",
    "\n",
    "![Virtual1](../FIGS/H00/uhd/cd_uhd.png)\n",
    "\n",
    "viii. Entre na pasta host :\n",
    "> cd host\n",
    "\n",
    "![Virtual1](../FIGS/H00/uhd/cd_host.png)\n",
    "\n",
    "ix. Crie uma pasta chamada build :\n",
    "\n",
    "> mkdir build\n",
    "\n",
    "![Virtual1](../FIGS/H00/uhd/mkdir_build.png)\n",
    "\n",
    "x. Entre na pasta build :\n",
    "\n",
    "\n",
    "> cd build\n",
    "\n",
    "![Virtual1](../FIGS/H00/uhd/cd_build.png)\n",
    "\n",
    "xi. Use o comando abaixo : \n",
    "\n",
    "> cmake ..\n",
    "\n",
    "![Virtual1](../FIGS/H00/uhd/cmake.png)\n",
    "\n",
    "        Se ocorrer um erro, uma das 3 opções a seguir deve corrigir a situação (consultehttps://kb.ettus.com/Building_and_Installing_the_USRP_Open-Source_Toolchain_(UHD_and_GNU_Radio)_on_Linux):\n",
    "\n",
    "        1. > /usr/bin/cmake ..\n",
    "        2. >PATH=/usr/bin:$PATH cmake ..\n",
    "        3. >cmake -DCMAKE_FIND_ROOT_PATH=/usr ..\n",
    "\n"
   ]
  },
  {
   "cell_type": "markdown",
   "metadata": {
    "id": "5I8QC7Ic8StX"
   },
   "source": [
    "xii - Use o comando abaixo de construção, essa parte da instalação pode demorar um pouco .\n",
    "\n",
    "> make\n",
    "\n",
    "xiii - Utilize o comando de teste abaixo .\n",
    "\n",
    "> make test\n",
    "\n",
    "![Virtual1](../FIGS/H00/uhd/Uhd_make_teste.png)\n",
    "\n",
    "\n",
    "xiv - E por fim :\n",
    "\n",
    "> sudo make install \n",
    "\n",
    "![Virtual1](../FIGS/H00/uhd/sudo_make_install.png)\n",
    "\n",
    "1- sudo ldconfig\n",
    "\n",
    "![Virtual1](../FIGS/H00/uhd/sudo_ldconfig.png)\n",
    "\n",
    "\n",
    "2- Por fim, certifique-se de que a variável de ambiente LD_LIBRARY_PATH esteja definida e inclua a pasta na qual o UHD foi instalado. Mais comumente, você pode adicionar a linha abaixo ao final do seu arquivo\n",
    "\n",
    ">                     gedit $HOME/.bashrc\n",
    "\n",
    " Adicione a seguinte linha no arquivo e salve:\n",
    ">                     export LD_LIBRARY_PATH=/usr/local/lib:$LD_LIBRARY_PATH\n",
    "\n",
    "Para que essa alteração tenha efeito, você precisará fechar a janela do terminal atual e abrir um novo terminal.\n",
    "\n",
    "3- Você pode testar isso rapidamente, sem nenhum dispositivo USRP conectado, executando:\n",
    "\n",
    ">   uhd_find_devices\n",
    "\n",
    "![Virtual1](../FIGS/H00/uhd/uhd_find_devices.png)\n",
    "\n",
    "\n",
    "\n"
   ]
  },
  {
   "cell_type": "markdown",
   "metadata": {
    "id": "1LQri6kFCfyY"
   },
   "source": [
    "## Instalação GNU Radio Manual (Versão v3.9.3.0)"
   ]
  },
  {
   "cell_type": "markdown",
   "metadata": {
    "id": "6uLftNumC15W"
   },
   "source": [
    "### Dependências ([https://wiki.gnuradio.org/index.php/UbuntuInstall#Focal_Fossa_.2820.04.29_through_Hirsute_Hippo_.2821.04.29)\n"
   ]
  },
  {
   "cell_type": "markdown",
   "metadata": {
    "id": "Fx4uVfAaDMhh"
   },
   "source": [
    "1 . O Primeiro passo é instalar as depêndecias do GNU Radio.\n",
    "Segue a baixo o comando para a version 3.8.x com suporte para Python 3:\n",
    "\n",
    "> sudo apt install git cmake g++ libboost-all-dev libgmp-dev swig python3-numpy \\\n",
    "python3-mako python3-sphinx python3-lxml doxygen libfftw3-dev \\\n",
    "libsdl1.2-dev libgsl-dev libqwt-qt5-dev libqt5opengl5-dev python3-pyqt5 \\\n",
    "liblog4cpp5-dev libzmq3-dev python3-yaml python3-click python3-click-plugins \\\n",
    "python3-zmq python3-scipy python3-gi python3-gi-cairo gir1.2-gtk-3.0 \\\n",
    "libcodec2-dev libgsm1-dev\n",
    "\n",
    "![Virtual1](../FIGS/H00/volk/dependencias.png)\n",
    "\n",
    "2 . GNU Radio versão 3.9.x requer adicionalmente:\n",
    "\n",
    "> sudo apt install pybind11-dev python3-matplotlib libsndfile1-dev\n",
    "\n",
    "![Virtual1](../FIGS/H00/gnuradio/matplotlib.png)\n",
    "\n",
    "3 . O ramo `master` do GNU Radio requer adicionalmente:\n",
    "\n",
    "> sudo apt install libiio-dev libad9361-dev libsoapysdr-dev soapysdr-tools\n",
    "\n",
    "![Virtual1](../FIGS/H00/volk/tools.png)\n"
   ]
  },
  {
   "cell_type": "markdown",
   "metadata": {
    "id": "Q5-h14ciDPCI"
   },
   "source": [
    "4 . Instalando o Volk (Deve-se primeiro instalar o Volk e, em seguida, instalar o GNU Radio)\n",
    "\n",
    "1 . Entre na pasta de trabalho :\n",
    "\n",
    "> cd ~/workarea\n",
    "\n",
    "2 . Use o comando abaixo para clonar o repositorio do volk:\n",
    "\n",
    "> git clone --recursive [https://github.com/gnuradio/volk.git](https://github.com/gnuradio/volk.git)\n",
    "\n",
    "![Virtual1](../FIGS/H00/volk/gitclonevolks.png)\n",
    "\n",
    "3 . Entre pasta:\n",
    "\n",
    "> cd_volk.png\n",
    "\n",
    "![Virtual1](../FIGS/H00/volk/cd_volk.png)\n",
    "\n",
    "4 . Crie uma pasta build :\n",
    " \n",
    "> mkdir build\n",
    "\n",
    "\n",
    "\n",
    "5 . Entre na pasta build :\n",
    "\n",
    "> cd build\n",
    "\n",
    "6 . Utilize o comando abaixo :\n",
    "\n",
    "> cmake -DCMAKE_BUILD_TYPE=Release -DPYTHON_EXECUTABLE=/usr/bin/python3 ../\n",
    "\n",
    "![Virtual1](../FIGS/H00/volk/cmake_-DMAKE.png)\n",
    "\n",
    "7 . O comando make pode demorar, aguarde :\n",
    "\n",
    "> make\n",
    "\n",
    "![Virtual1](../FIGS/H00/volk/make_volk.png)\n",
    "\n",
    "\n",
    "8 . Utilize o comando de teste :\n",
    "\n",
    "> make test\n",
    "\n",
    "![Virtual1](../FIGS/H00/volk/make_teste.png)\n",
    "\n",
    "9 . Confira se todos os teste passaram e utilize o próximo comando :\n",
    "\n",
    "> sudo make install\n",
    "\n",
    "![Virtual1](../FIGS/H00/volk/sudo_make_install.png)\n",
    "\n",
    "10 . Por fim  :\n",
    "\n",
    "> sudo ldconfig\n",
    "\n",
    "![Virtual1](../FIGS/H00/volk/sudo_ldconfig.png)\n"
   ]
  },
  {
   "cell_type": "markdown",
   "metadata": {
    "id": "veoCZ0S_E8uk"
   },
   "source": [
    "### GNU Radio 3.9 (Release v3.9.3.0)\n",
    "\n",
    "### Algumas bibliotecas adicionais:\n",
    "\n",
    "> sudo apt-get install pip\n",
    "\n",
    "![Virtual1](../FIGS/H00/gnuradio/sudo-pip-apt.png)\n",
    "\n",
    "> python3 -m pip install --user numpy scipy matplotlib ipython jupyter pandas sympy nose\n",
    "\n",
    "![Virtual1](../FIGS/H00/gnuradio/pipinstallpandassympynose.png)\n",
    "\n",
    "> python3 -m pip install --user pyqtgraph\n",
    "\n",
    "![Virtual1](../FIGS/H00/gnuradio/pyqtgraph.png)"
   ]
  },
  {
   "cell_type": "markdown",
   "metadata": {
    "id": "nLjc5PfhFlCt"
   },
   "source": [
    "### GNU Radio install\n",
    "\n",
    "1 . Clonando o repositorio : \n",
    "\n",
    "> cd ~/workarea\n",
    "\n",
    "> git clone --recursive [https://github.com/gnuradio/gnuradio.git](https://github.com/gnuradio/gnuradio.git)\n",
    "\n",
    "![Virtual1](../FIGS/H00/gnuradio/git-clone -- Recursive.png)\n",
    "\n",
    "\n",
    "2 . Entre na pasta do gnuradio :\n",
    "\n",
    "> cd gnuradio\n",
    "\n",
    "![Virtual1](.../FIGS/H00/gnuradio/cd_gnuradio.png)\n",
    "\n",
    "3 . check a versão utilizada :\n",
    "\n",
    "> git checkout v3.9.3.0\n",
    "\n",
    "![Virtual1](../FIGS/H00/gnuradio/git-checkout.png)\n",
    "\n",
    "4 . crie uma pasta pra build :\n",
    "\n",
    "> mkdir build\n",
    "\n",
    "![Virtual1](../FIGS/H00/gnuradio/mkdir_build.png)\n",
    "\n",
    "5 . Entre na pasta build :\n",
    "\n",
    "> cd build\n",
    "\n",
    "![Virtual1](../FIGS/H00/gnuradio/cd_Build.png)\n",
    "\n",
    "6 . Utilize o comando abaixo :\n",
    "\n",
    "> cmake -DCMAKE_BUILD_TYPE=Release -DPYTHON_EXECUTABLE=/usr/bin/python3 ../\n",
    "![Virtual1](../FIGS/H00/gnuradio/cmake.png)\n",
    "\n",
    "7 . Com o comando make -j2 começe a construção :\n",
    "\n",
    "> make -j2\n",
    "\n",
    "![Virtual1](../FIGS/H00/gnuradio/make-j2.png)\n",
    "\n",
    "8 . Utilize o comando de test:\n",
    "> make test\n",
    "\n",
    "![Virtual1](../FIGS/H00/gnuradio/make_test.png)\n",
    "\n",
    "9 . Utilize o comando abaixo : \n",
    "\n",
    "> sudo make install\n",
    "\n",
    "![Virtual1](../FIGS/H00/gnuradio/sudo make install.png)\n",
    "\n",
    "10 . E por fim :\n",
    "\n",
    "> sudo ldconfig\n",
    "\n",
    "![Virtual1](../FIGS/H00/gnuradio/sudo_ldconfig.png)\n",
    "\n",
    "Se encontrar algum erro, por favor veja : [https://wiki.gnuradio.org/index.php/InstallingGR#From_Source](https://wiki.gnuradio.org/index.php/InstallingGR#From_Source)"
   ]
  },
  {
   "cell_type": "markdown",
   "metadata": {},
   "source": [
    "### Problemas Clássicos "
   ]
  },
  {
   "cell_type": "markdown",
   "metadata": {},
   "source": [
    "1- O GNURadio pode ser aberto pelo terminal com o comando :\n",
    "\n",
    "> gnuradio-companion\n",
    "\n",
    "![Virtual1](../FIGS/H00/gnuradio/terminal.png)\n",
    "\n",
    "2- E também aberto pela sua área de trabalho :\n",
    "\n",
    "![Virtual1](../FIGS/H00/gnuradio/gnuradio-home.png)\n",
    "\n",
    "Um problema recorrente na instalação pode ser visto na imagem abaixo, informações sobre a correção pode ser encontrada: https://wiki.gnuradio.org/index.php/ModuleNotFoundError .\n",
    "\n",
    "![Virtual1](../FIGS/H00/gnuradio/import_gnuradio.png)\n",
    "\n",
    "Para solução :\n",
    "\n",
    "1 . gnuradio-config-info --prefix\n",
    "    1. My output was: /usr/local/.\n",
    "2 . find /usr/local/. -name gnuradio | grep \"packages\"\n",
    "    1. My output was: /usr/local/./lib/python3/dist-packages/gnuradio\n",
    "3 . Abra o arquivo com o comando abaixo : \n",
    "\n",
    "> gedit $HOME/.bashrc\n",
    "\n",
    "e adicione a seguinte linha no arquivo e salve :\n",
    "\n",
    ">  export PYTHONPATH=/usr/local/lib/python3/dist-packages:/usr/local/lib/python3/site-packages:$PYTHONPATH\n",
    "\n",
    "\n",
    "![Virtual1](../FIGS/H00/gnuradio/arquivo.png)"
   ]
  },
  {
   "cell_type": "markdown",
   "metadata": {},
   "source": [
    "4 . Se você obtiver o erro ModuleNotFoundError ao iniciar o GNU Radio a partir da GUI, mas puder iniciar o GNU Radio usando o terminal, é porque as variáveis de ambiente são definidas para o terminal, mas não para seu ambiente gráfico. Experimente uma das soluções listadas abaixo :\n",
    "\n",
    "a. Armazene os comandos de exportação indicados em ~/.profile Saia e volte a entrar para que as alterações tenham efeito.\n",
    "> gedit ~/.profile\n",
    "\n",
    "Adicione as seguintes linhas no arquivo e salve: \n",
    "> export PYTHONPATH=/usr/local/lib/python3/dist-packages:/usr/local/lib/python3/site-packages:$PYTHONPATH\n",
    "\n",
    "> export LD_LIBRARY_PATH=/usr/local/lib:$LD_LIBRARY_PATH\n",
    "\n",
    "\n",
    "![Virtual1](../FIGS/H00/gnuradio/profile-linhas.png)\n",
    "\n",
    "b. Armazene os comandos de exportação indicados em um novo script de shell (com qualquer nome de sua escolha) em /etc/profile.d/ Reinicie o seu computador a partir de então.\n"
   ]
  },
  {
   "cell_type": "markdown",
   "metadata": {},
   "source": [
    "### Installation test"
   ]
  },
  {
   "cell_type": "markdown",
   "metadata": {},
   "source": [
    "1 . Abra o gnuradio e localize o exemplo OFDM GRC :\n",
    "![Virtual1](../FIGS/H00/gnuradio/caminho_exemplo.png)\n",
    "\n",
    "2 . Em seguida execute o exemplo como na figura abaixo :\n",
    "\n",
    "![Virtual1](../FIGS/H00/gnuradio/exemplo.png)\n",
    "\n",
    "3 . Sua saída deve ser similar a imagem abaixo :\n",
    "\n",
    "![Virtual1](../FIGS/H00/gnuradio/saida_ofdm.png)"
   ]
  },
  {
   "cell_type": "code",
   "execution_count": null,
   "metadata": {
    "collapsed": true
   },
   "outputs": [],
   "source": []
  }
 ],
 "metadata": {
  "colab": {
   "authorship_tag": "ABX9TyOv/YrUWyaOJMFJUtJoSETL",
   "name": "Untitled23.ipynb",
   "provenance": []
  },
  "kernelspec": {
   "display_name": "Python 3",
   "language": "python",
   "name": "python3"
  },
  "language_info": {
   "codemirror_mode": {
    "name": "ipython",
    "version": 3
   },
   "file_extension": ".py",
   "mimetype": "text/x-python",
   "name": "python",
   "nbconvert_exporter": "python",
   "pygments_lexer": "ipython3",
   "version": "3.6.2"
  }
 },
 "nbformat": 4,
 "nbformat_minor": 1
}
