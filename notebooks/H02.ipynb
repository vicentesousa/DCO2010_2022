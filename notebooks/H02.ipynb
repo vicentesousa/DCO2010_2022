{
 "cells": [
  {
   "cell_type": "markdown",
   "metadata": {},
   "source": [
    "# Hands-on 02: XXX"
   ]
  },
  {
   "cell_type": "markdown",
   "metadata": {},
   "source": [
    "# Objetivos \n",
    "- Apresentar vantagens de usar o Python3;\n",
    "- Apresentar onde encontrar informações sobre o Python 3;\n",
    "- Apresentar operações básicas com o Python 3;\n",
    "- Apresentar o Spyder como interface de desenvolvimento para Pyhton 3;\n",
    "- Apresentar o processo de Debug (depuração) no Python 3."
   ]
  }
 ],
 "metadata": {
  "language_info": {
   "name": "python"
  },
  "orig_nbformat": 4
 },
 "nbformat": 4,
 "nbformat_minor": 2
}
