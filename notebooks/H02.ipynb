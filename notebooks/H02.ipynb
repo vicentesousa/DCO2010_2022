{
 "cells": [
  {
   "cell_type": "markdown",
   "metadata": {},
   "source": [
    "# Hands-on 2 - DCO2010: Laboratório de Radio Definido por Software\n",
    "\n",
    "## Manipulação de áudio e filtragem (arquivos e microfone)"
   ]
  },
  {
   "cell_type": "markdown",
   "metadata": {},
   "source": [
    "# Objetivos \n",
    "- Usar conceitos básicos e algumas dicas aprendidas em exercícios passados para\n",
    "manipular a saída e entrada de áudio provenientes de arquivos “.wav” e microfone, e com o uso de\n",
    "filtros, fazer o controle de tonalidade.\n",
    " \n",
    "                \"teste\""
   ]
  },
  {
   "cell_type": "markdown",
   "metadata": {},
   "source": [
    "## Introdução Teórica\n",
    "### Arquivo WAV\n",
    "    O arquivo wav (Waveform Audio File Format) é um formato de arquivo de áudio criado pela Microsoft\n",
    "e IBM no ano de 1991. Ele é baseado no método de formatação RIFF (Resource Interchange File Format), que armazena arquivos de áudio através do PCM (pulse code modulation). Usuários profissionais podem usar o formato WAV para qualidade máxima de áudio. Um sinal PCM é obtido através de um processo de digitalização de um sinal analógico, o qual consiste de 3 etapas: (i) Amostragem; (ii) Quantização; e (iii) Codificação. A primeira etapa (amostragem) consiste na coleta de amostras em intervalos regulares, discretizando o sinal no tempo. A segunda etapa, quantização, visa a discretização dos valores de amplitude do sinal em um número finito de níveis. Finalmente, a codificação transforma os valores discretos de amplitude em códigos binários. A figura a seguir ilustra a geração de um sinal PCM típico de um sinal de voz usado em telefonia. Ao não ser pela taxa final, a mesma operação é realizada para gerar um arquivo WAV.\n",
    "![Sinal_PCM]()"
   ]
  }
 ],
 "metadata": {
  "language_info": {
   "name": "python"
  },
  "orig_nbformat": 4
 },
 "nbformat": 4,
 "nbformat_minor": 2
}
